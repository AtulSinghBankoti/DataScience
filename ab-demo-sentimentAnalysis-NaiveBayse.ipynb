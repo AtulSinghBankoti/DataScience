{
 "cells": [
  {
   "cell_type": "code",
   "execution_count": 30,
   "metadata": {},
   "outputs": [],
   "source": [
    "positiveReviewFileName = \"D:\\\\H100DaysOfML\\\\rt-polaritydata\\\\rt-polaritydata\\\\rt-polarity.pos\"\n",
    "negativeReviewFileName = \"D:\\\\H100DaysOfML\\\\rt-polaritydata\\\\rt-polaritydata\\\\rt-polarity.neg\""
   ]
  },
  {
   "cell_type": "code",
   "execution_count": 31,
   "metadata": {},
   "outputs": [],
   "source": [
    "with open(positiveReviewFileName, 'r') as f:\n",
    "    positiveReviews = f.readlines()\n",
    "\n",
    "with open(negativeReviewFileName, 'r') as f:\n",
    "    negativeReviews = f.readlines()"
   ]
  },
  {
   "cell_type": "code",
   "execution_count": 32,
   "metadata": {},
   "outputs": [],
   "source": [
    "testTrainingSplitIndex = 2500\n",
    "\n",
    "testNegativeReviews = negativeReviews[testTrainingSplitIndex+1:]\n",
    "testPositiveReviews = positiveReviews[testTrainingSplitIndex+1:]\n",
    "\n",
    "trainingNegativeReviews = negativeReviews[:testTrainingSplitIndex]\n",
    "trainingPositiveReviews = positiveReviews[:testTrainingSplitIndex]"
   ]
  },
  {
   "cell_type": "code",
   "execution_count": 33,
   "metadata": {},
   "outputs": [],
   "source": [
    "positiveWordList = [word for line in trainingPositiveReviews for word in line.split()]\n",
    "negativeWordList = [word for line in trainingNegativeReviews for word in line.split()]\n",
    "allWordList = [item for sublist in [positiveWordList,negativeWordList] for item in sublist]\n",
    "vocabulary = list(set(allWordList))"
   ]
  },
  {
   "cell_type": "code",
   "execution_count": 34,
   "metadata": {},
   "outputs": [],
   "source": [
    "def extract_features(review):\n",
    "    review_words=set(review)\n",
    "    features={}\n",
    "    for word in vocabulary:\n",
    "        features[word] = (word in review_words)\n",
    "    return features"
   ]
  },
  {
   "cell_type": "code",
   "execution_count": 35,
   "metadata": {},
   "outputs": [],
   "source": [
    "negTaggedTrainingReviewList = [{'review':oneReview.split(),'label':'negative'} for oneReview in trainingNegativeReviews]\n",
    "posTaggedTrainingReviewList = [{'review':oneReview.split(),'label':'positive'} for oneReview in trainingPositiveReviews]\n",
    "fullTaggedTrainingData = [item for sublist in [negTaggedTrainingReviewList, posTaggedTrainingReviewList]  for item in sublist]\n",
    "trainingData = [(review['review'],review['label']) for review in fullTaggedTrainingData]"
   ]
  },
  {
   "cell_type": "code",
   "execution_count": 36,
   "metadata": {},
   "outputs": [],
   "source": [
    "import nltk"
   ]
  },
  {
   "cell_type": "code",
   "execution_count": 37,
   "metadata": {},
   "outputs": [],
   "source": [
    "trainingFeatures = nltk.classify.apply_features(extract_features, trainingData)\n",
    "trainedNBClassifier = nltk.NaiveBayesClassifier.train(trainingFeatures)"
   ]
  },
  {
   "cell_type": "code",
   "execution_count": 38,
   "metadata": {},
   "outputs": [],
   "source": [
    "def naiveBayesSentimentCalculator(review):\n",
    "    problemInstance = review.split()\n",
    "    problemFeature = extract_features(problemInstance)\n",
    "    return trainedNBClassifier.classify(problemFeature)"
   ]
  },
  {
   "cell_type": "code",
   "execution_count": 39,
   "metadata": {},
   "outputs": [],
   "source": [
    "def getTestReviewSentiments(naiveBayesSentimentCalculator):\n",
    "    testNegResults = [naiveBayesSentimentCalculator(review) for review in testNegativeReviews]\n",
    "    testPosResults = [naiveBayesSentimentCalculator(review) for review in testPositiveReviews]\n",
    "    labelToNum = {'positive':1, 'negative':-1}\n",
    "    numericNegResults = [labelToNum[x] for x in testNegResults]\n",
    "    numericPosResults = [labelToNum[x] for x in testPosResults]\n",
    "    return {'result-on-positive':numericPosResults,'result-on-negative':numericNegResults}"
   ]
  },
  {
   "cell_type": "code",
   "execution_count": 40,
   "metadata": {},
   "outputs": [],
   "source": [
    "def runDiagnostics(reviewResult):\n",
    "    positiveReviewsResult = reviewResult['result-on-positive']\n",
    "    negativeReviewsResult = reviewResult['result-on-negative']\n",
    "    numTruePositive = sum(x>0 for x in positiveReviewsResult)\n",
    "    numTrueNegative = sum(x<0 for x in negativeReviewsResult)\n",
    "    pctTruePositive = float(numTruePositive)/len(positiveReviewsResult)\n",
    "    pctTrueNegative = float(numTrueNegative)/len(negativeReviewsResult)\n",
    "    totalAccurate = numTruePositive + numTrueNegative\n",
    "    total = len(positiveReviewsResult) + len(negativeReviewsResult)\n",
    "    print(\"Accuracy on positive reviews= \"+\"%.2f\"%(pctTruePositive*100)+\"%\")\n",
    "    print(\"Accuracy on negative reviews= \"+\"%.2f\"%(pctTrueNegative*100)+\"%\")\n",
    "    print(\"Overall accuracy = \" + \"%.2f\" % (totalAccurate*100/total)+\"%\")"
   ]
  },
  {
   "cell_type": "code",
   "execution_count": 41,
   "metadata": {},
   "outputs": [
    {
     "name": "stdout",
     "output_type": "stream",
     "text": [
      "Accuracy on positive reviews= 73.39%\n",
      "Accuracy on negative reviews= 77.07%\n",
      "Overall accuracy = 75.23%\n"
     ]
    }
   ],
   "source": [
    "runDiagnostics(getTestReviewSentiments(naiveBayesSentimentCalculator))"
   ]
  },
  {
   "cell_type": "code",
   "execution_count": 42,
   "metadata": {},
   "outputs": [],
   "source": [
    "#getTestReviewSentiments(naiveBayesSentimentCalculator)"
   ]
  },
  {
   "cell_type": "code",
   "execution_count": null,
   "metadata": {},
   "outputs": [],
   "source": []
  }
 ],
 "metadata": {
  "kernelspec": {
   "display_name": "Python 3",
   "language": "python",
   "name": "python3"
  },
  "language_info": {
   "codemirror_mode": {
    "name": "ipython",
    "version": 3
   },
   "file_extension": ".py",
   "mimetype": "text/x-python",
   "name": "python",
   "nbconvert_exporter": "python",
   "pygments_lexer": "ipython3",
   "version": "3.7.4"
  }
 },
 "nbformat": 4,
 "nbformat_minor": 4
}
