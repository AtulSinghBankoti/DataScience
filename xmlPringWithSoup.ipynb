{
 "cells": [
  {
   "cell_type": "code",
   "execution_count": null,
   "metadata": {},
   "outputs": [],
   "source": [
    "import codecs\n",
    "import numpy as np\n",
    "from nltk.tag import pos_tag\n",
    "import pycrfsuite\n",
    "from bs4 import BeautifulSoup\n",
    "from bs4.element import Tag\n",
    "from sklearn.model_selection import train_test_split\n",
    "from sklearn.metrics import classification_report"
   ]
  },
  {
   "cell_type": "code",
   "execution_count": 30,
   "metadata": {},
   "outputs": [],
   "source": [
    "with codecs.open(\"500newsgoldstandard.xml\", \"r\", \"utf-8\") as file:\n",
    "    soup = BeautifulSoup(file, \"html.parser\")"
   ]
  },
  {
   "cell_type": "code",
   "execution_count": 31,
   "metadata": {},
   "outputs": [
    {
     "name": "stdout",
     "output_type": "stream",
     "text": [
      "<?xml version=\"1.0\" encoding=\"UTF-8\"?>\n",
      "<corpus xmlns=\"http://semweb.unister.de/xml-corpus-schema-2013\">\n",
      " <document id=\"0\">\n",
      "  <textwithnamedentities>\n",
      "   <simpletextpart>\n",
      "    The U.S. Patent Office allows genes to be patented as soon as someone isolates the DNA by removing it from the cell , says\n",
      "   </simpletextpart>\n",
      "   <namedentityintext uri=\"http://dbpedia.org/resource/American_Civil_Liberties_Union\">\n",
      "    ACLU\n",
      "   </namedentityintext>\n",
      "   <simpletextpart>\n",
      "    attorney\n",
      "   </simpletextpart>\n",
      "   <namedentityintext uri=\"http://aksw.org/notInWiki/Sandra_Park\">\n",
      "    Sandra Park\n",
      "   </namedentityintext>\n",
      "   <simpletextpart>\n",
      "    .\n",
      "   </simpletextpart>\n",
      "  </textwithnamedentities>\n",
      " </document>\n",
      "</corpus>\n"
     ]
    }
   ],
   "source": [
    "print(soup.prettify())"
   ]
  },
  {
   "cell_type": "code",
   "execution_count": null,
   "metadata": {},
   "outputs": [],
   "source": []
  },
  {
   "cell_type": "code",
   "execution_count": null,
   "metadata": {},
   "outputs": [],
   "source": []
  }
 ],
 "metadata": {
  "kernelspec": {
   "display_name": "Python 3",
   "language": "python",
   "name": "python3"
  },
  "language_info": {
   "codemirror_mode": {
    "name": "ipython",
    "version": 3
   },
   "file_extension": ".py",
   "mimetype": "text/x-python",
   "name": "python",
   "nbconvert_exporter": "python",
   "pygments_lexer": "ipython3",
   "version": "3.7.1"
  }
 },
 "nbformat": 4,
 "nbformat_minor": 2
}
